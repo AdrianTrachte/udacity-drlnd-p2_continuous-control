{
 "cells": [
  {
   "cell_type": "markdown",
   "metadata": {},
   "source": [
    "# Continuous Control\n",
    "\n",
    "---\n",
    "\n",
    "In this notebook, you will learn how to use the Unity ML-Agents environment for the second project of the [Deep Reinforcement Learning Nanodegree](https://www.udacity.com/course/deep-reinforcement-learning-nanodegree--nd893) program.\n",
    "\n",
    "### 1. Start the Environment\n",
    "\n",
    "We begin by importing the necessary packages.  If the code cell below returns an error, please revisit the project instructions to double-check that you have installed [Unity ML-Agents](https://github.com/Unity-Technologies/ml-agents/blob/master/docs/Installation.md) and [NumPy](http://www.numpy.org/)."
   ]
  },
  {
   "cell_type": "code",
   "execution_count": 1,
   "metadata": {},
   "outputs": [
    {
     "name": "stdout",
     "output_type": "stream",
     "text": [
      "Requirement already satisfied: progressbar in c:\\users\\adria\\anaconda3\\envs\\drlnd\\lib\\site-packages (2.5)\n"
     ]
    }
   ],
   "source": [
    "from unityagents import UnityEnvironment\n",
    "import numpy as np\n",
    "\n",
    "# import general stuff\n",
    "import gym\n",
    "import random\n",
    "import torch\n",
    "import numpy as np\n",
    "from collections import deque\n",
    "from scipy import signal\n",
    "import matplotlib.pyplot as plt\n",
    "%matplotlib inline\n",
    "# widget bar to display progress\n",
    "!pip install progressbar\n",
    "import progressbar as pb\n",
    "\n",
    "# import specific / own stuff\n",
    "from ddpg_agent import Agent"
   ]
  },
  {
   "cell_type": "markdown",
   "metadata": {},
   "source": [
    "Next, we will start the environment!  **_Before running the code cell below_**, change the `file_name` parameter to match the location of the Unity environment that you downloaded.\n",
    "\n",
    "- **Mac**: `\"path/to/Reacher.app\"`\n",
    "- **Windows** (x86): `\"path/to/Reacher_Windows_x86/Reacher.exe\"`\n",
    "- **Windows** (x86_64): `\"path/to/Reacher_Windows_x86_64/Reacher.exe\"`\n",
    "- **Linux** (x86): `\"path/to/Reacher_Linux/Reacher.x86\"`\n",
    "- **Linux** (x86_64): `\"path/to/Reacher_Linux/Reacher.x86_64\"`\n",
    "- **Linux** (x86, headless): `\"path/to/Reacher_Linux_NoVis/Reacher.x86\"`\n",
    "- **Linux** (x86_64, headless): `\"path/to/Reacher_Linux_NoVis/Reacher.x86_64\"`\n",
    "\n",
    "For instance, if you are using a Mac, then you downloaded `Reacher.app`.  If this file is in the same folder as the notebook, then the line below should appear as follows:\n",
    "```\n",
    "env = UnityEnvironment(file_name=\"Reacher.app\")\n",
    "```"
   ]
  },
  {
   "cell_type": "code",
   "execution_count": 2,
   "metadata": {},
   "outputs": [
    {
     "name": "stderr",
     "output_type": "stream",
     "text": [
      "INFO:unityagents:\n",
      "'Academy' started successfully!\n",
      "Unity Academy name: Academy\n",
      "        Number of Brains: 1\n",
      "        Number of External Brains : 1\n",
      "        Lesson number : 0\n",
      "        Reset Parameters :\n",
      "\t\tgoal_speed -> 1.0\n",
      "\t\tgoal_size -> 5.0\n",
      "Unity brain name: ReacherBrain\n",
      "        Number of Visual Observations (per agent): 0\n",
      "        Vector Observation space type: continuous\n",
      "        Vector Observation space size (per agent): 33\n",
      "        Number of stacked Vector Observation: 1\n",
      "        Vector Action space type: continuous\n",
      "        Vector Action space size (per agent): 4\n",
      "        Vector Action descriptions: , , , \n"
     ]
    }
   ],
   "source": [
    "env = UnityEnvironment(file_name='.\\Reacher_Windows_x86_64\\Reacher.exe')"
   ]
  },
  {
   "cell_type": "markdown",
   "metadata": {},
   "source": [
    "Environments contain **_brains_** which are responsible for deciding the actions of their associated agents. Here we check for the first brain available, and set it as the default brain we will be controlling from Python."
   ]
  },
  {
   "cell_type": "code",
   "execution_count": 3,
   "metadata": {},
   "outputs": [],
   "source": [
    "# get the default brain\n",
    "brain_name = env.brain_names[0]\n",
    "\n",
    "brain = env.brains[brain_name]"
   ]
  },
  {
   "cell_type": "markdown",
   "metadata": {},
   "source": [
    "### 2. Examine the State and Action Spaces\n",
    "\n",
    "In this environment, a double-jointed arm can move to target locations. A reward of `+0.1` is provided for each step that the agent's hand is in the goal location. Thus, the goal of your agent is to maintain its position at the target location for as many time steps as possible.\n",
    "\n",
    "The observation space consists of `33` variables corresponding to position, rotation, velocity, and angular velocities of the arm.  Each action is a vector with four numbers, corresponding to torque applicable to two joints.  Every entry in the action vector must be a number between `-1` and `1`.\n",
    "\n",
    "Run the code cell below to print some information about the environment."
   ]
  },
  {
   "cell_type": "code",
   "execution_count": 4,
   "metadata": {},
   "outputs": [
    {
     "name": "stdout",
     "output_type": "stream",
     "text": [
      "Number of agents: 1\n",
      "Number of actions: 4\n",
      "Random set of actions: [[ 1.          0.85675127  0.4431405  -0.34884451]]\n",
      "There are 1 agents. Each observes a state with length: 33\n",
      "The state for the first agent looks like: [ 0.00000000e+00 -4.00000000e+00  0.00000000e+00  1.00000000e+00\n",
      " -0.00000000e+00 -0.00000000e+00 -4.37113883e-08  0.00000000e+00\n",
      "  0.00000000e+00  0.00000000e+00  0.00000000e+00  0.00000000e+00\n",
      "  0.00000000e+00  0.00000000e+00 -1.00000000e+01  0.00000000e+00\n",
      "  1.00000000e+00 -0.00000000e+00 -0.00000000e+00 -4.37113883e-08\n",
      "  0.00000000e+00  0.00000000e+00  0.00000000e+00  0.00000000e+00\n",
      "  0.00000000e+00  0.00000000e+00  5.75471878e+00 -1.00000000e+00\n",
      "  5.55726671e+00  0.00000000e+00  1.00000000e+00  0.00000000e+00\n",
      " -1.68164849e-01]\n"
     ]
    }
   ],
   "source": [
    "# reset the environment\n",
    "env_info = env.reset(train_mode=True)[brain_name]\n",
    "\n",
    "# number of agents\n",
    "num_agents = len(env_info.agents)\n",
    "print('Number of agents:', num_agents)\n",
    "\n",
    "# size of each action\n",
    "action_size = brain.vector_action_space_size\n",
    "print('Number of actions:', action_size)\n",
    "\n",
    "# random actions\n",
    "actions = np.random.randn(num_agents, action_size) # select an action (for each agent)\n",
    "actions = np.clip(actions, -1, 1)                  # all actions between -1 and 1\n",
    "print('Random set of actions: {}'.format(actions))\n",
    "\n",
    "# examine the state space \n",
    "states = env_info.vector_observations\n",
    "state_size = states.shape[1]\n",
    "print('There are {} agents. Each observes a state with length: {}'.format(states.shape[0], state_size))\n",
    "print('The state for the first agent looks like:', states[0])"
   ]
  },
  {
   "cell_type": "markdown",
   "metadata": {},
   "source": [
    "### 3. [optional] Take Random Actions in the Environment\n",
    "\n",
    "In the next code cell, you will learn how to use the Python API to control the agent and receive feedback from the environment.\n",
    "\n",
    "Once this cell is executed, you will watch the agent's performance, if it selects an action at random with each time step.  A window should pop up that allows you to observe the agent, as it moves through the environment.  "
   ]
  },
  {
   "cell_type": "code",
   "execution_count": 5,
   "metadata": {},
   "outputs": [
    {
     "name": "stdout",
     "output_type": "stream",
     "text": [
      "Total score (averaged over agents) this episode: 0.0\n"
     ]
    }
   ],
   "source": [
    "if True:\n",
    "    env_info = env.reset(train_mode=False)[brain_name]     # reset the environment    \n",
    "    states = env_info.vector_observations                  # get the current state (for each agent)\n",
    "    scores = np.zeros(num_agents)                          # initialize the score (for each agent)\n",
    "    for _ in range(1, 50):\n",
    "        actions = np.random.randn(num_agents, action_size) # select an action (for each agent)\n",
    "        actions = np.clip(actions, -1, 1)                  # all actions between -1 and 1\n",
    "        env_info = env.step(actions)[brain_name]           # send all actions to tne environment\n",
    "        next_states = env_info.vector_observations         # get next state (for each agent)\n",
    "        rewards = env_info.rewards                         # get reward (for each agent)\n",
    "        dones = env_info.local_done                        # see if episode finished\n",
    "        scores += env_info.rewards                         # update the score (for each agent)\n",
    "        states = next_states                               # roll over states to next time step\n",
    "        if np.any(dones):                                  # exit loop if episode finished\n",
    "            break\n",
    "    print('Total score (averaged over agents) this episode: {}'.format(np.mean(scores)))"
   ]
  },
  {
   "cell_type": "code",
   "execution_count": 6,
   "metadata": {},
   "outputs": [
    {
     "name": "stdout",
     "output_type": "stream",
     "text": [
      "[[-2.95865250e+00 -2.70231843e+00 -6.55448362e-02  9.15687561e-01\n",
      "  -4.01711643e-01 -4.80729109e-03 -1.09968241e-02 -1.44558355e-01\n",
      "  -3.04122809e-02  1.13767493e+00  3.02105522e+00 -3.44610047e+00\n",
      "   2.91748524e-01 -3.31465340e+00 -6.43165588e+00 -1.75609660e+00\n",
      "   6.56803071e-01  5.17013073e-02  5.92818618e-01 -4.63144511e-01\n",
      "   1.57205075e-01 -3.78197938e-01  1.12805068e+00  9.12253952e+00\n",
      "  -2.61579251e+00  1.11365068e+00  6.34443855e+00 -1.00000000e+00\n",
      "  -4.87320232e+00  0.00000000e+00  1.00000000e+00  0.00000000e+00\n",
      "  -5.33014059e-01]]\n",
      "<class 'numpy.ndarray'>\n",
      "[[-0.48818689  0.43077321 -0.92957432  1.        ]]\n",
      "<class 'numpy.ndarray'>\n",
      "tensor([[-2.9587, -2.7023, -0.0655,  0.9157, -0.4017, -0.0048, -0.0110, -0.1446,\n",
      "         -0.0304,  1.1377,  3.0211, -3.4461,  0.2917, -3.3147, -6.4317, -1.7561,\n",
      "          0.6568,  0.0517,  0.5928, -0.4631,  0.1572, -0.3782,  1.1281,  9.1225,\n",
      "         -2.6158,  1.1137,  6.3444, -1.0000, -4.8732,  0.0000,  1.0000,  0.0000,\n",
      "         -0.5330, -0.4882,  0.4308, -0.9296,  1.0000]], dtype=torch.float64)\n",
      "<class 'torch.Tensor'>\n"
     ]
    }
   ],
   "source": [
    "print(states)\n",
    "print(type(states))\n",
    "print(actions)\n",
    "print(type(actions))\n",
    "newtens = torch.cat((torch.from_numpy(states), torch.from_numpy(actions)),dim=1)\n",
    "print(newtens)\n",
    "print(type(newtens))"
   ]
  },
  {
   "cell_type": "markdown",
   "metadata": {},
   "source": [
    "When finished, you can close the environment."
   ]
  },
  {
   "cell_type": "code",
   "execution_count": 7,
   "metadata": {},
   "outputs": [],
   "source": [
    "# env.close()"
   ]
  },
  {
   "cell_type": "markdown",
   "metadata": {},
   "source": [
    "### 4. Let's start training!\n",
    "\n",
    "When training the environment, set `train_mode=True`, so that the line for resetting the environment looks like the following:\n",
    "```python\n",
    "env_info = env.reset(train_mode=True)[brain_name]\n",
    "```"
   ]
  },
  {
   "cell_type": "code",
   "execution_count": 8,
   "metadata": {},
   "outputs": [],
   "source": [
    "env_info = env.reset(train_mode=True)[brain_name]"
   ]
  },
  {
   "cell_type": "markdown",
   "metadata": {},
   "source": [
    "#### define DDPG"
   ]
  },
  {
   "cell_type": "code",
   "execution_count": 15,
   "metadata": {},
   "outputs": [],
   "source": [
    "def ddpg(n_episodes=100, max_t=100, beta_start=1.0, beta_end=0.01, beta_TEnd=800):\n",
    "    \"\"\"Deep Deterministic Policy Gradient.\n",
    "    \n",
    "    Params\n",
    "    ======\n",
    "        n_episodes (int): maximum number of training episodes\n",
    "        max_t (int): maximum number of timesteps\n",
    "        eps_start (float): starting value of epsilon, for epsilon-greedy action selection\n",
    "        eps_end (float): minimum value of epsilon\n",
    "        eps_decay (float): multiplicative factor (per episode) for decreasing epsilon\n",
    "    \"\"\"\n",
    "    scores = []                        # list containing scores from each episode\n",
    "    scores_window = deque(maxlen=100)  # last 100 scores\n",
    "    last_reward_vec = np.zeros(max_t)  # reset reward vector, only for last episode\n",
    "    beta_decay_linear = (beta_start-beta_end)/beta_TEnd # compute linear beta decay rate\n",
    "    \n",
    "    for i_episode in range(1, n_episodes+1):\n",
    "        beta = beta_start                  # initialize beta, that is factor for adding noise\n",
    "        env_info = env.reset(train_mode=True)[brain_name]  # reset unity enviroment\n",
    "        state = env_info.vector_observations[0]            # get the current state \n",
    "        score = 0\n",
    "        for t in range(max_t):\n",
    "            # choose action and perform it\n",
    "            actions = agent.act(state, beta)\n",
    "            env_info = env.step(actions)[brain_name]       # send the actions to the environment\n",
    "            \n",
    "            # send env data to agent and initiate learning\n",
    "            next_state = env_info.vector_observations[0]   # get the next state\n",
    "            reward = env_info.rewards[0]                   # get the reward\n",
    "            done = env_info.local_done[0]                  # see if episode has finished\n",
    "            agent.step(state, actions, reward, next_state, done)\n",
    "            \n",
    "            # do some tracking on the rewards\n",
    "            state = next_state\n",
    "            score += reward\n",
    "            if i_episode == n_episodes: last_reward_vec[t] = reward\n",
    "            if done:\n",
    "                break \n",
    "        scores_window.append(score)       # save most recent score\n",
    "        scores.append(score)              # save most recent score\n",
    "        beta = max(beta_end, beta_start - beta_decay_linear*i_episode) # decrease beta\n",
    "        \n",
    "        print('\\rEpisode {}\\tAverage Score: {:.2f}'.format(i_episode, np.mean(scores_window)), end=\"\")\n",
    "        if i_episode % 100 == 0:\n",
    "            # update progress widget bar\n",
    "            timer.update(i_episode)\n",
    "            print('\\rEpisode {}\\tAverage Score: {:.2f}'.format(i_episode, np.mean(scores_window)))\n",
    "        if np.mean(scores_window)>=30:\n",
    "            # yeaaah, we did it!\n",
    "            print('\\nEnvironment solved in {:d} episodes!\\tAverage Score: {:.2f}'.format(i_episode, np.mean(scores_window)))\n",
    "            # save current agent\n",
    "            checkpoint = {'input_size': state_size,\n",
    "              'output_size': action_size,\n",
    "              'hidden_layers': [each.out_features for each in agent.qnetwork_target.hidden_layers],\n",
    "              'state_dict': agent.qnetwork_target.state_dict()}\n",
    "            torch.save(checkpoint, './data/checkpoint.pth')\n",
    "            break\n",
    "    # finish timer\n",
    "    timer.finish()    \n",
    "    return scores, last_reward_vec"
   ]
  },
  {
   "cell_type": "markdown",
   "metadata": {},
   "source": [
    " #### [optional] Simulate Ornstein-Uhlenbeck process\n",
    " This process is used for exploration. In the next short section it is simulated with different parameterization to get a better feeling what it is doing."
   ]
  },
  {
   "cell_type": "code",
   "execution_count": 10,
   "metadata": {
    "scrolled": true
   },
   "outputs": [
    {
     "data": {
      "image/png": "[encoded data removed]",
      "text/plain": [
       "<Figure size 432x288 with 1 Axes>"
      ]
     },
     "metadata": {
      "needs_background": "light"
     },
     "output_type": "display_data"
    },
    {
     "data": {
      "image/png": "[encoded data removed]",
      "text/plain": [
       "<Figure size 432x288 with 1 Axes>"
      ]
     },
     "metadata": {
      "needs_background": "light"
     },
     "output_type": "display_data"
    }
   ],
   "source": [
    "from ddpg_agent import OUNoise\n",
    "import random\n",
    "random_seed = 123\n",
    "\n",
    "# Noise process\n",
    "# mu=0., theta=0.15, sigma=0.2\n",
    "# mu is the center point of the distribution\n",
    "# theta draws the distribution towards the center point\n",
    "# sigma draws the distribution towards random points of normal distribution\n",
    "noise_std = OUNoise(1, random_seed)\n",
    "noise_1 = OUNoise(1, random_seed, 2)\n",
    "noise_2 = OUNoise(1, random_seed, 0., 0.3)\n",
    "noise_3 = OUNoise(1, random_seed, 0., 0.15, 0.5)\n",
    "\n",
    "# create noise\n",
    "n_samples = 1000\n",
    "noise_signal_std = [noise_std.sample() for i in range(n_samples)]\n",
    "noise_signal_1 = [noise_1.sample() for i in range(n_samples)]\n",
    "noise_signal_2 = [noise_2.sample() for i in range(n_samples)]\n",
    "noise_signal_3 = [noise_3.sample() for i in range(n_samples)]\n",
    "\n",
    "plt.plot(noise_signal_std, label='std config')\n",
    "plt.plot(noise_signal_1, label='mu = 2')\n",
    "plt.plot(noise_signal_2, label='mu = 0, theta = 0.3')\n",
    "plt.plot(noise_signal_3, label='mu = 0, theta = 0.15, sigma = 0.5')\n",
    "plt.legend(loc='best')\n",
    "plt.ylabel('Noise signal')\n",
    "plt.xlabel('samples #')\n",
    "plt.show()\n",
    "\n",
    "# with beta decay\n",
    "beta_start=1.0\n",
    "beta_end=0.01\n",
    "beta_nEpisodes=1000\n",
    "beta = beta_start                  # initialize beta, that is factor for adding noise\n",
    "beta_decay_linear = (beta_start-beta_end)/beta_nEpisodes # compute linear beta decay rate\n",
    "noise_signal_beta = [noise_std.sample() for i in range(n_samples)]\n",
    "for i in range(n_samples):\n",
    "    noise_signal_beta[i] *= beta\n",
    "    beta = max(beta_end, beta_start - beta_decay_linear*i) # decrease beta\n",
    "plt.plot(noise_signal_beta)\n",
    "plt.ylabel('Noise signal')\n",
    "plt.xlabel('samples #')\n",
    "plt.title('noise with decay')\n",
    "plt.show()"
   ]
  },
  {
   "cell_type": "markdown",
   "metadata": {},
   "source": [
    "#### create the agent and do the training"
   ]
  },
  {
   "cell_type": "code",
   "execution_count": null,
   "metadata": {
    "scrolled": true
   },
   "outputs": [
    {
     "name": "stderr",
     "output_type": "stream",
     "text": [
      "training loop:   0% |                                          | ETA:  --:--:--\r"
     ]
    },
    {
     "name": "stdout",
     "output_type": "stream",
     "text": [
      "\r",
      "Episode 1\tAverage Score: 0.74"
     ]
    }
   ],
   "source": [
    "# number of episodes\n",
    "n_episodes = 200\n",
    "max_t = 2000\n",
    "# create agent and train\n",
    "agent = Agent(state_size, action_size, 1)        # initialize agent\n",
    "# create progress bar to keep track \n",
    "widget = ['training loop: ', pb.Percentage(), ' ', \n",
    "          pb.Bar(), ' ', pb.ETA() ]\n",
    "timer = pb.ProgressBar(widgets=widget, maxval=n_episodes).start()\n",
    "# do actual learning\n",
    "scores, last_reward_vec = ddpg(n_episodes, max_t)\n"
   ]
  },
  {
   "cell_type": "markdown",
   "metadata": {},
   "source": [
    "#### draw the resulting scores"
   ]
  },
  {
   "cell_type": "code",
   "execution_count": null,
   "metadata": {
    "scrolled": true
   },
   "outputs": [],
   "source": [
    "# butterworth filter with [order] and [cutofffreq/nyquistfreq]\n",
    "b, a = signal.butter(4, 0.01/0.5)\n",
    "scores_filtered = signal.filtfilt(b, a, scores)\n",
    "plt.plot(scores, label='scores')\n",
    "plt.plot(scores_filtered, label='mean scores filtered')\n",
    "plt.legend(loc='best')\n",
    "plt.ylabel('Score')\n",
    "plt.xlabel('Episode #')\n",
    "plt.savefig('./data/DDPG_tmax2000_episodes200.png')\n",
    "plt.show()"
   ]
  },
  {
   "cell_type": "markdown",
   "metadata": {},
   "source": [
    "#### watch trained agent playing"
   ]
  },
  {
   "cell_type": "code",
   "execution_count": 14,
   "metadata": {},
   "outputs": [
    {
     "name": "stdout",
     "output_type": "stream",
     "text": [
      "Total score (averaged over agents) this episode: 15.229999659582973\n"
     ]
    }
   ],
   "source": [
    "env_info = env.reset(train_mode=False)[brain_name]     # reset the environment    \n",
    "states = env_info.vector_observations                  # get the current state (for each agent)\n",
    "scores = np.zeros(num_agents)                          # initialize the score (for each agent)\n",
    "for _ in range(1, 500):\n",
    "    actions = agent.act(states, beta = 0., add_noise = False)      # select actions without \n",
    "    env_info = env.step(actions)[brain_name]           # send all actions to tne environment\n",
    "    next_states = env_info.vector_observations         # get next state (for each agent)\n",
    "    rewards = env_info.rewards                         # get reward (for each agent)\n",
    "    dones = env_info.local_done                        # see if episode finished\n",
    "    scores += env_info.rewards                         # update the score (for each agent)\n",
    "    states = next_states                               # roll over states to next time step\n",
    "    if np.any(dones):                                  # exit loop if episode finished\n",
    "        break\n",
    "print('Total score (averaged over agents) this episode: {}'.format(np.mean(scores)))"
   ]
  },
  {
   "cell_type": "code",
   "execution_count": null,
   "metadata": {},
   "outputs": [],
   "source": []
  }
 ],
 "metadata": {
  "kernelspec": {
   "display_name": "drlnd",
   "language": "python",
   "name": "drlnd"
  },
  "language_info": {
   "codemirror_mode": {
    "name": "ipython",
    "version": 3
   },
   "file_extension": ".py",
   "mimetype": "text/x-python",
   "name": "python",
   "nbconvert_exporter": "python",
   "pygments_lexer": "ipython3",
   "version": "3.6.8"
  }
 },
 "nbformat": 4,
 "nbformat_minor": 2
}
