{
 "cells": [
  {
   "cell_type": "markdown",
   "metadata": {},
   "source": [
    "# Continuous Control\n",
    "\n",
    "---\n",
    "\n",
    "In this notebook, you will learn how to use the Unity ML-Agents environment for the second project of the [Deep Reinforcement Learning Nanodegree](https://www.udacity.com/course/deep-reinforcement-learning-nanodegree--nd893) program.\n",
    "\n",
    "### 1. Start the Environment\n",
    "\n",
    "We begin by importing the necessary packages.  If the code cell below returns an error, please revisit the project instructions to double-check that you have installed [Unity ML-Agents](https://github.com/Unity-Technologies/ml-agents/blob/master/docs/Installation.md) and [NumPy](http://www.numpy.org/)."
   ]
  },
  {
   "cell_type": "code",
   "execution_count": 1,
   "metadata": {},
   "outputs": [
    {
     "name": "stdout",
     "output_type": "stream",
     "text": [
      "Requirement already satisfied: progressbar in c:\\users\\adria\\anaconda3\\envs\\drlnd\\lib\\site-packages (2.5)\n"
     ]
    }
   ],
   "source": [
    "from unityagents import UnityEnvironment\n",
    "import numpy as np\n",
    "\n",
    "# import general stuff\n",
    "import gym\n",
    "import random\n",
    "import torch\n",
    "import numpy as np\n",
    "from collections import deque\n",
    "from scipy import signal\n",
    "import matplotlib.pyplot as plt\n",
    "%matplotlib inline\n",
    "import pickle\n",
    "# widget bar to display progress\n",
    "!pip install progressbar\n",
    "import progressbar as pb\n",
    "\n",
    "# import specific / own stuff\n",
    "from ddpg_agent import Agent"
   ]
  },
  {
   "cell_type": "markdown",
   "metadata": {},
   "source": [
    "Next, we will start the environment!  **_Before running the code cell below_**, change the `file_name` parameter to match the location of the Unity environment that you downloaded.\n",
    "\n",
    "- **Mac**: `\"path/to/Reacher.app\"`\n",
    "- **Windows** (x86): `\"path/to/Reacher_Windows_x86/Reacher.exe\"`\n",
    "- **Windows** (x86_64): `\"path/to/Reacher_Windows_x86_64/Reacher.exe\"`\n",
    "- **Linux** (x86): `\"path/to/Reacher_Linux/Reacher.x86\"`\n",
    "- **Linux** (x86_64): `\"path/to/Reacher_Linux/Reacher.x86_64\"`\n",
    "- **Linux** (x86, headless): `\"path/to/Reacher_Linux_NoVis/Reacher.x86\"`\n",
    "- **Linux** (x86_64, headless): `\"path/to/Reacher_Linux_NoVis/Reacher.x86_64\"`\n",
    "\n",
    "For instance, if you are using a Mac, then you downloaded `Reacher.app`.  If this file is in the same folder as the notebook, then the line below should appear as follows:\n",
    "```\n",
    "env = UnityEnvironment(file_name=\"Reacher.app\")\n",
    "```"
   ]
  },
  {
   "cell_type": "code",
   "execution_count": 2,
   "metadata": {},
   "outputs": [
    {
     "name": "stderr",
     "output_type": "stream",
     "text": [
      "INFO:unityagents:\n",
      "'Academy' started successfully!\n",
      "Unity Academy name: Academy\n",
      "        Number of Brains: 1\n",
      "        Number of External Brains : 1\n",
      "        Lesson number : 0\n",
      "        Reset Parameters :\n",
      "\t\tgoal_speed -> 1.0\n",
      "\t\tgoal_size -> 5.0\n",
      "Unity brain name: ReacherBrain\n",
      "        Number of Visual Observations (per agent): 0\n",
      "        Vector Observation space type: continuous\n",
      "        Vector Observation space size (per agent): 33\n",
      "        Number of stacked Vector Observation: 1\n",
      "        Vector Action space type: continuous\n",
      "        Vector Action space size (per agent): 4\n",
      "        Vector Action descriptions: , , , \n"
     ]
    }
   ],
   "source": [
    "env = UnityEnvironment(file_name='.\\Reacher_Windows_x86_64\\Reacher.exe')"
   ]
  },
  {
   "cell_type": "markdown",
   "metadata": {},
   "source": [
    "Environments contain **_brains_** which are responsible for deciding the actions of their associated agents. Here we check for the first brain available, and set it as the default brain we will be controlling from Python."
   ]
  },
  {
   "cell_type": "code",
   "execution_count": 3,
   "metadata": {},
   "outputs": [],
   "source": [
    "# get the default brain\n",
    "brain_name = env.brain_names[0]\n",
    "\n",
    "brain = env.brains[brain_name]"
   ]
  },
  {
   "cell_type": "markdown",
   "metadata": {},
   "source": [
    "### 2. Examine the State and Action Spaces\n",
    "\n",
    "In this environment, a double-jointed arm can move to target locations. A reward of `+0.1` is provided for each step that the agent's hand is in the goal location. Thus, the goal of your agent is to maintain its position at the target location for as many time steps as possible.\n",
    "\n",
    "The observation space consists of `33` variables corresponding to position, rotation, velocity, and angular velocities of the arm.  Each action is a vector with four numbers, corresponding to torque applicable to two joints.  Every entry in the action vector must be a number between `-1` and `1`.\n",
    "\n",
    "Run the code cell below to print some information about the environment."
   ]
  },
  {
   "cell_type": "code",
   "execution_count": 4,
   "metadata": {},
   "outputs": [
    {
     "name": "stdout",
     "output_type": "stream",
     "text": [
      "Number of agents: 1\n",
      "Number of actions: 4\n",
      "Random set of actions: [[ 0.88241425  0.37646873 -0.33393117  1.        ]]\n",
      "There are 1 agents. Each observes a state with length: 33\n",
      "The state for the first agent looks like: [ 0.00000000e+00 -4.00000000e+00  0.00000000e+00  1.00000000e+00\n",
      " -0.00000000e+00 -0.00000000e+00 -4.37113883e-08  0.00000000e+00\n",
      "  0.00000000e+00  0.00000000e+00  0.00000000e+00  0.00000000e+00\n",
      "  0.00000000e+00  0.00000000e+00 -1.00000000e+01  0.00000000e+00\n",
      "  1.00000000e+00 -0.00000000e+00 -0.00000000e+00 -4.37113883e-08\n",
      "  0.00000000e+00  0.00000000e+00  0.00000000e+00  0.00000000e+00\n",
      "  0.00000000e+00  0.00000000e+00  5.75471878e+00 -1.00000000e+00\n",
      "  5.55726671e+00  0.00000000e+00  1.00000000e+00  0.00000000e+00\n",
      " -1.68164849e-01]\n"
     ]
    }
   ],
   "source": [
    "# reset the environment\n",
    "env_info = env.reset(train_mode=True)[brain_name]\n",
    "\n",
    "# number of agents\n",
    "num_agents = len(env_info.agents)\n",
    "print('Number of agents:', num_agents)\n",
    "\n",
    "# size of each action\n",
    "action_size = brain.vector_action_space_size\n",
    "print('Number of actions:', action_size)\n",
    "\n",
    "# random actions\n",
    "actions = np.random.randn(num_agents, action_size) # select an action (for each agent)\n",
    "actions = np.clip(actions, -1, 1)                  # all actions between -1 and 1\n",
    "print('Random set of actions: {}'.format(actions))\n",
    "\n",
    "# examine the state space \n",
    "states = env_info.vector_observations\n",
    "state_size = states.shape[1]\n",
    "print('There are {} agents. Each observes a state with length: {}'.format(states.shape[0], state_size))\n",
    "print('The state for the first agent looks like:', states[0])"
   ]
  },
  {
   "cell_type": "markdown",
   "metadata": {},
   "source": [
    "### 3. [optional] Take Random Actions in the Environment\n",
    "\n",
    "In the next code cell, you will learn how to use the Python API to control the agent and receive feedback from the environment.\n",
    "\n",
    "Once this cell is executed, you will watch the agent's performance, if it selects an action at random with each time step.  A window should pop up that allows you to observe the agent, as it moves through the environment.  "
   ]
  },
  {
   "cell_type": "code",
   "execution_count": 5,
   "metadata": {
    "scrolled": true
   },
   "outputs": [],
   "source": [
    "if False:\n",
    "    env_info = env.reset(train_mode=False)[brain_name]     # reset the environment    \n",
    "    states = env_info.vector_observations                  # get the current state (for each agent)\n",
    "    scores = np.zeros(num_agents)                          # initialize the score (for each agent)\n",
    "    nsteps = 0\n",
    "    #for _ in range(1, 50):\n",
    "    while True:\n",
    "        actions = np.random.randn(num_agents, action_size) # select an action (for each agent)\n",
    "        actions = np.clip(actions, -1, 1)                  # all actions between -1 and 1\n",
    "        env_info = env.step(actions)[brain_name]           # send all actions to tne environment\n",
    "        next_states = env_info.vector_observations         # get next state (for each agent)\n",
    "        rewards = env_info.rewards                         # get reward (for each agent)\n",
    "        dones = env_info.local_done                        # see if episode finished\n",
    "        scores += env_info.rewards                         # update the score (for each agent)\n",
    "        nsteps +=1\n",
    "        states = next_states                               # roll over states to next time step\n",
    "        if np.any(dones):                                  # exit loop if episode finished\n",
    "            break\n",
    "    print('Total score (averaged over agents) this episode: {}'.format(np.mean(scores)))\n",
    "    print('Number of time steps is {}'.format(nsteps))"
   ]
  },
  {
   "cell_type": "markdown",
   "metadata": {},
   "source": [
    "### 4. Let's start training!\n",
    "\n",
    "When training the environment, set `train_mode=True`, so that the line for resetting the environment looks like the following:\n",
    "```python\n",
    "env_info = env.reset(train_mode=True)[brain_name]\n",
    "```"
   ]
  },
  {
   "cell_type": "code",
   "execution_count": 6,
   "metadata": {},
   "outputs": [],
   "source": [
    "env_info = env.reset(train_mode=True)[brain_name]"
   ]
  },
  {
   "cell_type": "markdown",
   "metadata": {},
   "source": [
    "#### define DDPG"
   ]
  },
  {
   "cell_type": "code",
   "execution_count": 7,
   "metadata": {},
   "outputs": [],
   "source": [
    "def ddpg(n_episodes=100, max_t=100, beta_start=1.0, beta_end=0.01, beta_episodeEnd=80):\n",
    "    \"\"\"Deep Deterministic Policy Gradient.\n",
    "    \n",
    "    Params\n",
    "    ======\n",
    "        n_episodes (int): maximum number of training episodes\n",
    "        max_t (int): maximum number of timesteps\n",
    "        beta_start (float): starting value of epsilon, for epsilon-greedy action selection\n",
    "        beta_end (float): minimum value of epsilon\n",
    "        beta_episodeEnd (float): number of episodes for which eps_end is reached\n",
    "    \"\"\"\n",
    "    scores = []                        # list containing scores from each episode\n",
    "    scores_window = deque(maxlen=100)  # last 100 scores\n",
    "    last_reward_vec = np.zeros(max_t)  # reset reward vector, only for last episode\n",
    "    beta = beta_start                  # initialize beta, that is factor for adding noise\n",
    "    beta_decay_linear = (beta_start-beta_end)/beta_episodeEnd # compute linear beta decay rate\n",
    "    \n",
    "    for i_episode in range(1, n_episodes+1):\n",
    "        env_info = env.reset(train_mode=True)[brain_name]  # reset unity enviroment\n",
    "        state = env_info.vector_observations[0]            # get the current state \n",
    "        score = 0\n",
    "        for t in range(max_t):\n",
    "            # choose action and perform it\n",
    "            actions = agent.act(state, beta)\n",
    "            env_info = env.step(actions)[brain_name]       # send the actions to the environment\n",
    "            \n",
    "            # send env data to agent and initiate learning\n",
    "            next_state = env_info.vector_observations[0]   # get the next state\n",
    "            reward = env_info.rewards[0]                   # get the reward\n",
    "            done = env_info.local_done[0]                  # see if episode has finished\n",
    "            agent.step(state, actions, reward, next_state, done)\n",
    "            \n",
    "            # do some tracking on the rewards\n",
    "            state = next_state\n",
    "            score += reward\n",
    "            if i_episode == n_episodes: last_reward_vec[t] = reward\n",
    "            if done:\n",
    "                break \n",
    "        scores_window.append(score)       # save most recent score\n",
    "        scores.append(score)              # save most recent score\n",
    "        beta = max(beta_end, beta_start - beta_decay_linear*i_episode) # decrease beta\n",
    "        \n",
    "        print('\\rEpisode {}\\tAverage Score: {:.2f}'.format(i_episode, np.mean(scores_window)), end=\"\")\n",
    "        if i_episode % 50 == 0:\n",
    "            # update progress widget bar\n",
    "            timer.update(i_episode)\n",
    "            print('\\rEpisode {}\\tAverage Score: {:.2f}'.format(i_episode, np.mean(scores_window)))\n",
    "        if np.mean(scores_window)>=30:\n",
    "            # yeaaah, we did it!\n",
    "            print('\\nEnvironment solved in {:d} episodes!\\tAverage Score: {:.2f}'.format(i_episode, np.mean(scores_window)))\n",
    "            break\n",
    "    # finish timer\n",
    "    timer.finish()    \n",
    "    return scores, last_reward_vec"
   ]
  },
  {
   "cell_type": "markdown",
   "metadata": {},
   "source": [
    "#### create the agent and do the training"
   ]
  },
  {
   "cell_type": "code",
   "execution_count": null,
   "metadata": {
    "scrolled": true
   },
   "outputs": [
    {
     "name": "stderr",
     "output_type": "stream",
     "text": [
      "training loop:   0% |                                          | ETA:  --:--:--\r"
     ]
    },
    {
     "name": "stdout",
     "output_type": "stream",
     "text": [
      "Episode 49\tAverage Score: 1.08"
     ]
    },
    {
     "name": "stderr",
     "output_type": "stream",
     "text": [
      "training loop:   1% |                                          | ETA:  22:02:06\r"
     ]
    },
    {
     "name": "stdout",
     "output_type": "stream",
     "text": [
      "Episode 50\tAverage Score: 1.07\n",
      "Episode 99\tAverage Score: 2.27"
     ]
    },
    {
     "name": "stderr",
     "output_type": "stream",
     "text": [
      "training loop:   2% |#                                         | ETA:  21:45:51\r"
     ]
    },
    {
     "name": "stdout",
     "output_type": "stream",
     "text": [
      "Episode 100\tAverage Score: 2.26\n",
      "Episode 149\tAverage Score: 3.35"
     ]
    },
    {
     "name": "stderr",
     "output_type": "stream",
     "text": [
      "training loop:   3% |#                                         | ETA:  21:28:13\r"
     ]
    },
    {
     "name": "stdout",
     "output_type": "stream",
     "text": [
      "Episode 150\tAverage Score: 3.41\n",
      "Episode 199\tAverage Score: 3.83"
     ]
    },
    {
     "name": "stderr",
     "output_type": "stream",
     "text": [
      "training loop:   5% |##                                        | ETA:  21:14:09\r"
     ]
    },
    {
     "name": "stdout",
     "output_type": "stream",
     "text": [
      "Episode 200\tAverage Score: 3.83\n",
      "Episode 249\tAverage Score: 4.15"
     ]
    },
    {
     "name": "stderr",
     "output_type": "stream",
     "text": [
      "training loop:   6% |##                                        | ETA:  21:02:04\r"
     ]
    },
    {
     "name": "stdout",
     "output_type": "stream",
     "text": [
      "Episode 250\tAverage Score: 4.12\n",
      "Episode 299\tAverage Score: 3.91"
     ]
    },
    {
     "name": "stderr",
     "output_type": "stream",
     "text": [
      "training loop:   7% |###                                       | ETA:  20:50:22\r"
     ]
    },
    {
     "name": "stdout",
     "output_type": "stream",
     "text": [
      "Episode 300\tAverage Score: 3.96\n",
      "Episode 349\tAverage Score: 4.09"
     ]
    },
    {
     "name": "stderr",
     "output_type": "stream",
     "text": [
      "training loop:   8% |###                                       | ETA:  20:38:51\r"
     ]
    },
    {
     "name": "stdout",
     "output_type": "stream",
     "text": [
      "Episode 350\tAverage Score: 4.07\n",
      "Episode 399\tAverage Score: 4.48"
     ]
    },
    {
     "name": "stderr",
     "output_type": "stream",
     "text": [
      "training loop:  10% |####                                      | ETA:  20:27:47\r"
     ]
    },
    {
     "name": "stdout",
     "output_type": "stream",
     "text": [
      "Episode 400\tAverage Score: 4.47\n",
      "Episode 449\tAverage Score: 4.68"
     ]
    },
    {
     "name": "stderr",
     "output_type": "stream",
     "text": [
      "training loop:  11% |####                                      | ETA:  20:16:24\r"
     ]
    },
    {
     "name": "stdout",
     "output_type": "stream",
     "text": [
      "Episode 450\tAverage Score: 4.73\n",
      "Episode 499\tAverage Score: 4.89"
     ]
    },
    {
     "name": "stderr",
     "output_type": "stream",
     "text": [
      "training loop:  12% |#####                                     | ETA:  20:05:13\r"
     ]
    },
    {
     "name": "stdout",
     "output_type": "stream",
     "text": [
      "Episode 500\tAverage Score: 4.87\n",
      "Episode 549\tAverage Score: 4.73"
     ]
    },
    {
     "name": "stderr",
     "output_type": "stream",
     "text": [
      "training loop:  13% |#####                                     | ETA:  19:53:03\r"
     ]
    },
    {
     "name": "stdout",
     "output_type": "stream",
     "text": [
      "Episode 550\tAverage Score: 4.68\n",
      "Episode 599\tAverage Score: 5.02"
     ]
    },
    {
     "name": "stderr",
     "output_type": "stream",
     "text": [
      "training loop:  15% |######                                    | ETA:  19:39:49\r"
     ]
    },
    {
     "name": "stdout",
     "output_type": "stream",
     "text": [
      "Episode 600\tAverage Score: 5.02\n",
      "Episode 649\tAverage Score: 5.92"
     ]
    },
    {
     "name": "stderr",
     "output_type": "stream",
     "text": [
      "training loop:  16% |######                                    | ETA:  19:26:38\r"
     ]
    },
    {
     "name": "stdout",
     "output_type": "stream",
     "text": [
      "Episode 650\tAverage Score: 5.95\n",
      "Episode 699\tAverage Score: 5.51"
     ]
    },
    {
     "name": "stderr",
     "output_type": "stream",
     "text": [
      "training loop:  17% |#######                                   | ETA:  19:13:10\r"
     ]
    },
    {
     "name": "stdout",
     "output_type": "stream",
     "text": [
      "Episode 700\tAverage Score: 5.55\n",
      "Episode 749\tAverage Score: 4.94"
     ]
    },
    {
     "name": "stderr",
     "output_type": "stream",
     "text": [
      "training loop:  18% |#######                                   | ETA:  18:59:32\r"
     ]
    },
    {
     "name": "stdout",
     "output_type": "stream",
     "text": [
      "Episode 750\tAverage Score: 4.99\n",
      "Episode 799\tAverage Score: 5.78"
     ]
    },
    {
     "name": "stderr",
     "output_type": "stream",
     "text": [
      "training loop:  20% |########                                  | ETA:  18:44:57\r"
     ]
    },
    {
     "name": "stdout",
     "output_type": "stream",
     "text": [
      "Episode 800\tAverage Score: 5.75\n",
      "Episode 849\tAverage Score: 6.21"
     ]
    },
    {
     "name": "stderr",
     "output_type": "stream",
     "text": [
      "training loop:  21% |########                                  | ETA:  18:29:43\r"
     ]
    },
    {
     "name": "stdout",
     "output_type": "stream",
     "text": [
      "Episode 850\tAverage Score: 6.18\n",
      "Episode 899\tAverage Score: 6.26"
     ]
    },
    {
     "name": "stderr",
     "output_type": "stream",
     "text": [
      "training loop:  22% |#########                                 | ETA:  18:13:42\r"
     ]
    },
    {
     "name": "stdout",
     "output_type": "stream",
     "text": [
      "Episode 900\tAverage Score: 6.28\n",
      "Episode 949\tAverage Score: 6.59"
     ]
    },
    {
     "name": "stderr",
     "output_type": "stream",
     "text": [
      "training loop:  23% |#########                                 | ETA:  17:57:35\r"
     ]
    },
    {
     "name": "stdout",
     "output_type": "stream",
     "text": [
      "Episode 950\tAverage Score: 6.59\n",
      "Episode 999\tAverage Score: 6.20"
     ]
    },
    {
     "name": "stderr",
     "output_type": "stream",
     "text": [
      "training loop:  25% |##########                                | ETA:  17:41:51\r"
     ]
    },
    {
     "name": "stdout",
     "output_type": "stream",
     "text": [
      "Episode 1000\tAverage Score: 6.24\n",
      "Episode 1049\tAverage Score: 6.38"
     ]
    },
    {
     "name": "stderr",
     "output_type": "stream",
     "text": [
      "training loop:  26% |###########                               | ETA:  17:25:09\r"
     ]
    },
    {
     "name": "stdout",
     "output_type": "stream",
     "text": [
      "Episode 1050\tAverage Score: 6.36\n",
      "Episode 1099\tAverage Score: 6.92"
     ]
    },
    {
     "name": "stderr",
     "output_type": "stream",
     "text": [
      "training loop:  27% |###########                               | ETA:  17:08:14\r"
     ]
    },
    {
     "name": "stdout",
     "output_type": "stream",
     "text": [
      "Episode 1100\tAverage Score: 6.91\n",
      "Episode 1149\tAverage Score: 7.40"
     ]
    },
    {
     "name": "stderr",
     "output_type": "stream",
     "text": [
      "training loop:  28% |############                              | ETA:  16:51:29\r"
     ]
    },
    {
     "name": "stdout",
     "output_type": "stream",
     "text": [
      "Episode 1150\tAverage Score: 7.40\n",
      "Episode 1199\tAverage Score: 7.47"
     ]
    },
    {
     "name": "stderr",
     "output_type": "stream",
     "text": [
      "training loop:  30% |############                              | ETA:  16:34:50\r"
     ]
    },
    {
     "name": "stdout",
     "output_type": "stream",
     "text": [
      "Episode 1200\tAverage Score: 7.46\n",
      "Episode 1249\tAverage Score: 7.59"
     ]
    },
    {
     "name": "stderr",
     "output_type": "stream",
     "text": [
      "training loop:  31% |#############                             | ETA:  16:18:01\r"
     ]
    },
    {
     "name": "stdout",
     "output_type": "stream",
     "text": [
      "Episode 1250\tAverage Score: 7.59\n",
      "Episode 1299\tAverage Score: 7.41"
     ]
    },
    {
     "name": "stderr",
     "output_type": "stream",
     "text": [
      "training loop:  32% |#############                             | ETA:  16:01:09\r"
     ]
    },
    {
     "name": "stdout",
     "output_type": "stream",
     "text": [
      "Episode 1300\tAverage Score: 7.42\n",
      "Episode 1349\tAverage Score: 7.27"
     ]
    },
    {
     "name": "stderr",
     "output_type": "stream",
     "text": [
      "training loop:  33% |##############                            | ETA:  15:44:07\r"
     ]
    },
    {
     "name": "stdout",
     "output_type": "stream",
     "text": [
      "Episode 1350\tAverage Score: 7.26\n",
      "Episode 1399\tAverage Score: 8.18"
     ]
    },
    {
     "name": "stderr",
     "output_type": "stream",
     "text": [
      "training loop:  35% |##############                            | ETA:  15:27:01\r"
     ]
    },
    {
     "name": "stdout",
     "output_type": "stream",
     "text": [
      "Episode 1400\tAverage Score: 8.18\n",
      "Episode 1449\tAverage Score: 8.58"
     ]
    },
    {
     "name": "stderr",
     "output_type": "stream",
     "text": [
      "training loop:  36% |###############                           | ETA:  15:09:51\r"
     ]
    },
    {
     "name": "stdout",
     "output_type": "stream",
     "text": [
      "Episode 1450\tAverage Score: 8.58\n",
      "Episode 1499\tAverage Score: 8.44"
     ]
    },
    {
     "name": "stderr",
     "output_type": "stream",
     "text": [
      "training loop:  37% |###############                           | ETA:  14:52:36\r"
     ]
    },
    {
     "name": "stdout",
     "output_type": "stream",
     "text": [
      "Episode 1500\tAverage Score: 8.44\n",
      "Episode 1549\tAverage Score: 9.63"
     ]
    },
    {
     "name": "stderr",
     "output_type": "stream",
     "text": [
      "training loop:  38% |################                          | ETA:  14:35:19\r"
     ]
    },
    {
     "name": "stdout",
     "output_type": "stream",
     "text": [
      "Episode 1550\tAverage Score: 9.66\n",
      "Episode 1599\tAverage Score: 10.66"
     ]
    },
    {
     "name": "stderr",
     "output_type": "stream",
     "text": [
      "training loop:  40% |################                          | ETA:  14:18:00\r"
     ]
    },
    {
     "name": "stdout",
     "output_type": "stream",
     "text": [
      "Episode 1600\tAverage Score: 10.67\n",
      "Episode 1649\tAverage Score: 10.92"
     ]
    },
    {
     "name": "stderr",
     "output_type": "stream",
     "text": [
      "training loop:  41% |#################                         | ETA:  14:00:36\r"
     ]
    },
    {
     "name": "stdout",
     "output_type": "stream",
     "text": [
      "Episode 1650\tAverage Score: 10.98\n",
      "Episode 1699\tAverage Score: 12.16"
     ]
    },
    {
     "name": "stderr",
     "output_type": "stream",
     "text": [
      "training loop:  42% |#################                         | ETA:  13:43:09\r"
     ]
    },
    {
     "name": "stdout",
     "output_type": "stream",
     "text": [
      "Episode 1700\tAverage Score: 12.17\n",
      "Episode 1749\tAverage Score: 11.74"
     ]
    },
    {
     "name": "stderr",
     "output_type": "stream",
     "text": [
      "training loop:  43% |##################                        | ETA:  13:25:32\r"
     ]
    },
    {
     "name": "stdout",
     "output_type": "stream",
     "text": [
      "Episode 1750\tAverage Score: 11.72\n",
      "Episode 1799\tAverage Score: 12.05"
     ]
    },
    {
     "name": "stderr",
     "output_type": "stream",
     "text": [
      "training loop:  45% |##################                        | ETA:  13:07:47\r"
     ]
    },
    {
     "name": "stdout",
     "output_type": "stream",
     "text": [
      "Episode 1800\tAverage Score: 12.11\n",
      "Episode 1849\tAverage Score: 13.85"
     ]
    },
    {
     "name": "stderr",
     "output_type": "stream",
     "text": [
      "training loop:  46% |###################                       | ETA:  12:50:04\r"
     ]
    },
    {
     "name": "stdout",
     "output_type": "stream",
     "text": [
      "Episode 1850\tAverage Score: 13.92\n",
      "Episode 1899\tAverage Score: 13.78"
     ]
    },
    {
     "name": "stderr",
     "output_type": "stream",
     "text": [
      "training loop:  47% |###################                       | ETA:  12:32:42\r"
     ]
    },
    {
     "name": "stdout",
     "output_type": "stream",
     "text": [
      "Episode 1900\tAverage Score: 13.72\n",
      "Episode 1949\tAverage Score: 14.41"
     ]
    },
    {
     "name": "stderr",
     "output_type": "stream",
     "text": [
      "training loop:  48% |####################                      | ETA:  12:15:05\r"
     ]
    },
    {
     "name": "stdout",
     "output_type": "stream",
     "text": [
      "Episode 1950\tAverage Score: 14.42\n",
      "Episode 1999\tAverage Score: 14.84"
     ]
    },
    {
     "name": "stderr",
     "output_type": "stream",
     "text": [
      "training loop:  50% |#####################                     | ETA:  11:57:26\r"
     ]
    },
    {
     "name": "stdout",
     "output_type": "stream",
     "text": [
      "Episode 2000\tAverage Score: 14.89\n",
      "Episode 2049\tAverage Score: 15.43"
     ]
    },
    {
     "name": "stderr",
     "output_type": "stream",
     "text": [
      "training loop:  51% |#####################                     | ETA:  11:39:46\r"
     ]
    },
    {
     "name": "stdout",
     "output_type": "stream",
     "text": [
      "Episode 2050\tAverage Score: 15.45\n",
      "Episode 2099\tAverage Score: 16.29"
     ]
    },
    {
     "name": "stderr",
     "output_type": "stream",
     "text": [
      "training loop:  52% |######################                    | ETA:  11:22:11\r"
     ]
    },
    {
     "name": "stdout",
     "output_type": "stream",
     "text": [
      "Episode 2100\tAverage Score: 16.32\n",
      "Episode 2149\tAverage Score: 16.40"
     ]
    },
    {
     "name": "stderr",
     "output_type": "stream",
     "text": [
      "training loop:  53% |######################                    | ETA:  11:04:46\r"
     ]
    },
    {
     "name": "stdout",
     "output_type": "stream",
     "text": [
      "Episode 2150\tAverage Score: 16.38\n",
      "Episode 2199\tAverage Score: 21.92"
     ]
    },
    {
     "name": "stderr",
     "output_type": "stream",
     "text": [
      "training loop:  55% |#######################                   | ETA:  10:47:21\r"
     ]
    },
    {
     "name": "stdout",
     "output_type": "stream",
     "text": [
      "Episode 2200\tAverage Score: 22.08\n",
      "Episode 2233\tAverage Score: 27.51"
     ]
    }
   ],
   "source": [
    "# parameters for learning\n",
    "n_episodes=4000\n",
    "max_t=4000\n",
    "beta_start=1.5\n",
    "beta_end=0.01\n",
    "beta_episodeEnd=4000\n",
    "\n",
    "# create agent and train\n",
    "agent = Agent(state_size, action_size, 1)        # initialize agent\n",
    "\n",
    "# uncomment following lines to proceed from save\n",
    "#checkpoint = torch.load('./data/checkpoint_qnetwork_local_epsEnd1800_1.pth')\n",
    "#agent.qnetwork_local.load_state_dict(checkpoint['state_dict'])\n",
    "#checkpoint = torch.load('./data/checkpoint_qnetwork_target_epsEnd1800_1.pth')\n",
    "#agent.qnetwork_target.load_state_dict(checkpoint['state_dict'])\n",
    "#checkpoint = torch.load('./data/checkpoint_munetwork_local_epsEnd1800_1.pth')\n",
    "#agent.munetwork_local.load_state_dict(checkpoint['state_dict'])\n",
    "#checkpoint = torch.load('./data/checkpoint_munetwork_target_epsEnd1800_1.pth')\n",
    "#5949agent.munetwork_target.load_state_dict(checkpoint['state_dict'])\n",
    "\n",
    "# create progress bar to keep track \n",
    "widget = ['training loop: ', pb.Percentage(), ' ', \n",
    "          pb.Bar(), ' ', pb.ETA() ]\n",
    "timer = pb.ProgressBar(widgets=widget, maxval=n_episodes).start()\n",
    "\n",
    "# do actual learning\n",
    "scores, last_reward_vec = ddpg(n_episodes, max_t, beta_start, beta_end, beta_episodeEnd)\n"
   ]
  },
  {
   "cell_type": "markdown",
   "metadata": {},
   "source": [
    "#### draw the resulting scores"
   ]
  },
  {
   "cell_type": "code",
   "execution_count": null,
   "metadata": {
    "scrolled": true
   },
   "outputs": [],
   "source": [
    "# butterworth filter with [order] and [cutofffreq/nyquistfreq]\n",
    "b, a = signal.butter(4, 0.01/0.5)\n",
    "scores_filtered = signal.filtfilt(b, a, scores)\n",
    "plt.plot(scores, label='scores')\n",
    "plt.plot(scores_filtered, label='mean scores filtered')\n",
    "plt.legend(loc='best')\n",
    "plt.ylabel('Score')\n",
    "plt.xlabel('Episode #')\n",
    "plt.savefig('./data/DDPG_tmax{}_episodes{}_epsEnd{}_twoHiddenlayer.png'.format(max_t, n_episodes, beta_episodeEnd))\n",
    "plt.show()"
   ]
  },
  {
   "cell_type": "code",
   "execution_count": null,
   "metadata": {},
   "outputs": [],
   "source": [
    "# save data\n",
    "with open('./data/scores_DDPG_tmax{}_episodes{}_epsEnd{}.pkl'.format(max_t, n_episodes, beta_episodeEnd), 'wb') as f:\n",
    "    pickle.dump(scores, f)"
   ]
  },
  {
   "cell_type": "code",
   "execution_count": null,
   "metadata": {},
   "outputs": [],
   "source": [
    "#with open('./data/scores_DDPG_tmax2000_episodes500.pkl', 'rb') as f:\n",
    "#    scores = pickle.load(f)"
   ]
  },
  {
   "cell_type": "code",
   "execution_count": null,
   "metadata": {},
   "outputs": [],
   "source": [
    "# save learned agent if desired\n",
    "checkpoint = {'input_size': state_size+action_size,\n",
    "              'output_size': 1,\n",
    "              'hidden_layers': [each.out_features for each in agent.qnetwork_local.hidden_layers],\n",
    "              'state_dict': agent.qnetwork_local.state_dict()}\n",
    "torch.save(checkpoint, './data/checkpoint_qnetwork_local.pth')\n",
    "\n",
    "checkpoint = {'input_size': state_size+action_size,\n",
    "              'output_size': 1,\n",
    "              'hidden_layers': [each.out_features for each in agent.qnetwork_local.hidden_layers],\n",
    "              'state_dict': agent.qnetwork_local.state_dict()}\n",
    "torch.save(checkpoint, './data/checkpoint_qnetwork_target.pth')\n",
    "\n",
    "checkpoint = {'input_size': state_size,\n",
    "              'output_size': action_size,\n",
    "              'hidden_layers': [each.out_features for each in agent.munetwork_local.hidden_layers],\n",
    "              'state_dict': agent.munetwork_local.state_dict()}\n",
    "torch.save(checkpoint, './data/checkpoint_munetwork_local.pth')\n",
    "\n",
    "checkpoint = {'input_size': state_size,\n",
    "              'output_size': action_size,\n",
    "              'hidden_layers': [each.out_features for each in agent.munetwork_target.hidden_layers],\n",
    "              'state_dict': agent.munetwork_target.state_dict()}\n",
    "torch.save(checkpoint, './data/checkpoint_munetwork_target.pth')\n"
   ]
  },
  {
   "cell_type": "markdown",
   "metadata": {},
   "source": [
    "### 5. watch trained agent playing"
   ]
  },
  {
   "cell_type": "code",
   "execution_count": null,
   "metadata": {},
   "outputs": [],
   "source": [
    "# load from save\n",
    "agent = Agent(state_size, action_size, 1)        # initialize agent\n",
    "checkpoint = torch.load('./data/checkpoint_qnetwork_local_epsEnd1800_1.pth')\n",
    "agent.qnetwork_local.load_state_dict(checkpoint['state_dict'])\n",
    "checkpoint = torch.load('./data/checkpoint_qnetwork_target_epsEnd1800_1.pth')\n",
    "agent.qnetwork_target.load_state_dict(checkpoint['state_dict'])\n",
    "checkpoint = torch.load('./data/checkpoint_munetwork_local_epsEnd1800_1.pth')\n",
    "agent.munetwork_local.load_state_dict(checkpoint['state_dict'])\n",
    "checkpoint = torch.load('./data/checkpoint_munetwork_target_epsEnd1800_1.pth')\n",
    "agent.munetwork_target.load_state_dict(checkpoint['state_dict'])"
   ]
  },
  {
   "cell_type": "code",
   "execution_count": null,
   "metadata": {
    "scrolled": true
   },
   "outputs": [],
   "source": [
    "env_info = env.reset(train_mode=False)[brain_name]     # reset the environment    \n",
    "states = env_info.vector_observations                  # get the current state (for each agent)\n",
    "scores = np.zeros(num_agents)                          # initialize the score (for each agent)\n",
    "all_actions = np.zeros((num_agents, action_size))        # initialize the actions (for each agent)\n",
    "all_scores = np.zeros(num_agents) \n",
    "for _ in range(1, 500):\n",
    "    actions = agent.act(states, beta = 0., add_noise = False)      # select actions without \n",
    "    all_actions = np.append(all_actions, actions, axis=0)\n",
    "    env_info = env.step(actions)[brain_name]           # send all actions to tne environment\n",
    "    next_states = env_info.vector_observations         # get next state (for each agent)\n",
    "    rewards = env_info.rewards                         # get reward (for each agent)\n",
    "    dones = env_info.local_done                        # see if episode finished\n",
    "    scores += env_info.rewards                         # update the score (for each agent)\n",
    "    all_scores = np.append(all_scores, env_info.rewards)\n",
    "    states = next_states                               # roll over states to next time step\n",
    "    if np.any(dones):                                  # exit loop if episode finished\n",
    "        break\n",
    "print('Total score (averaged over agents) this episode: {}'.format(np.mean(scores)))"
   ]
  },
  {
   "cell_type": "code",
   "execution_count": null,
   "metadata": {},
   "outputs": [],
   "source": [
    "for i in range(4):\n",
    "    plt.plot(all_actions[:,i])\n",
    "plt.show()\n"
   ]
  },
  {
   "cell_type": "markdown",
   "metadata": {},
   "source": [
    "Close the environment."
   ]
  },
  {
   "cell_type": "code",
   "execution_count": null,
   "metadata": {},
   "outputs": [],
   "source": [
    "env.close()"
   ]
  },
  {
   "cell_type": "code",
   "execution_count": null,
   "metadata": {},
   "outputs": [],
   "source": []
  }
 ],
 "metadata": {
  "kernelspec": {
   "display_name": "drlnd",
   "language": "python",
   "name": "drlnd"
  },
  "language_info": {
   "codemirror_mode": {
    "name": "ipython",
    "version": 3
   },
   "file_extension": ".py",
   "mimetype": "text/x-python",
   "name": "python",
   "nbconvert_exporter": "python",
   "pygments_lexer": "ipython3",
   "version": "3.6.8"
  }
 },
 "nbformat": 4,
 "nbformat_minor": 2
}
